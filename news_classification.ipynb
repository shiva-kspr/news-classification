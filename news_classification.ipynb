{
  "nbformat": 4,
  "nbformat_minor": 0,
  "metadata": {
    "colab": {
      "provenance": []
    },
    "kernelspec": {
      "name": "python3",
      "display_name": "Python 3"
    },
    "language_info": {
      "name": "python"
    }
  },
  "cells": [
    {
      "cell_type": "code",
      "metadata": {
        "id": "QoTZ7T0kazjS"
      },
      "source": [
        "import numpy as np\n",
        "from sklearn.naive_bayes import MultinomialNB\n",
        "from sklearn.feature_extraction.text import CountVectorizer,TfidfVectorizer\n",
        "import pandas as pd\n",
        "from sklearn.preprocessing import LabelEncoder\n",
        "from sklearn.model_selection import train_test_split\n",
        "from sklearn.metrics import accuracy_score,confusion_matrix,precision_recall_fscore_support"
      ],
      "execution_count": null,
      "outputs": []
    },
    {
      "cell_type": "code",
      "metadata": {
        "id": "7QTUUH4IbLoJ"
      },
      "source": [
        "df=pd.read_csv('/content/drive/MyDrive/Colab Notebooks/IBM AI training/Assingment/files/news_classification.csv')"
      ],
      "execution_count": null,
      "outputs": []
    },
    {
      "cell_type": "code",
      "metadata": {
        "colab": {
          "base_uri": "https://localhost:8080/"
        },
        "id": "XUKYrvcobohT",
        "outputId": "11d919f6-b757-4b20-b3d7-dd8633506553"
      },
      "source": [
        "print(df.info())"
      ],
      "execution_count": null,
      "outputs": [
        {
          "output_type": "stream",
          "text": [
            "<class 'pandas.core.frame.DataFrame'>\n",
            "RangeIndex: 422419 entries, 0 to 422418\n",
            "Data columns (total 8 columns):\n",
            " #   Column     Non-Null Count   Dtype  \n",
            "---  ------     --------------   -----  \n",
            " 0   ID         422419 non-null  int64  \n",
            " 1   TITLE      422419 non-null  object \n",
            " 2   URL        422419 non-null  object \n",
            " 3   PUBLISHER  422417 non-null  object \n",
            " 4   CATEGORY   422419 non-null  object \n",
            " 5   STORY      422419 non-null  object \n",
            " 6   HOSTNAME   422419 non-null  object \n",
            " 7   TIMESTAMP  422419 non-null  float64\n",
            "dtypes: float64(1), int64(1), object(6)\n",
            "memory usage: 25.8+ MB\n",
            "None\n"
          ],
          "name": "stdout"
        }
      ]
    },
    {
      "cell_type": "code",
      "metadata": {
        "colab": {
          "base_uri": "https://localhost:8080/"
        },
        "id": "0PzW2vw2b9sn",
        "outputId": "adebaac8-3d20-4dd3-9055-ed89d655ce4d"
      },
      "source": [
        "df['CATEGORY'].value_counts()"
      ],
      "execution_count": null,
      "outputs": [
        {
          "output_type": "execute_result",
          "data": {
            "text/plain": [
              "e    152469\n",
              "b    115967\n",
              "t    108344\n",
              "m     45639\n",
              "Name: CATEGORY, dtype: int64"
            ]
          },
          "metadata": {
            "tags": []
          },
          "execution_count": 25
        }
      ]
    },
    {
      "cell_type": "code",
      "metadata": {
        "id": "8TTXVk2DcahC"
      },
      "source": [
        "df=df.drop(columns=['ID','URL','PUBLISHER','STORY','HOSTNAME','TIMESTAMP'])"
      ],
      "execution_count": null,
      "outputs": []
    },
    {
      "cell_type": "code",
      "metadata": {
        "id": "7W_TPmV-NnFy"
      },
      "source": [
        "df_e=df.loc[df['CATEGORY']=='e']\n",
        "df_e=df_e.iloc[0:3000,:]\n",
        "df_b=df.loc[df['CATEGORY']=='b']\n",
        "df_b=df_b.iloc[0:3000,:]\n",
        "df_t=df.loc[df['CATEGORY']=='t']\n",
        "df_t=df_t.iloc[0:3000,:]\n",
        "df_m=df.loc[df['CATEGORY']=='m']\n",
        "df_m=df_m.iloc[0:3000,:]"
      ],
      "execution_count": null,
      "outputs": []
    },
    {
      "cell_type": "code",
      "metadata": {
        "id": "wy-cQZvAROzT"
      },
      "source": [
        "data=[df_e,df_b,df_t,df_m]\n",
        "df=pd.concat(data)"
      ],
      "execution_count": null,
      "outputs": []
    },
    {
      "cell_type": "code",
      "metadata": {
        "id": "wRI5I-j3Rqxo"
      },
      "source": [
        "df = df.reset_index(drop=True)"
      ],
      "execution_count": null,
      "outputs": []
    },
    {
      "cell_type": "code",
      "metadata": {
        "id": "810-BWLLdUUN"
      },
      "source": [
        "df['CATEGORY']=df['CATEGORY'].map({\n",
        "    'e':0,\n",
        "    'b':1,\n",
        "    't':2,\n",
        "    'm':3\n",
        "})"
      ],
      "execution_count": null,
      "outputs": []
    },
    {
      "cell_type": "code",
      "metadata": {
        "colab": {
          "base_uri": "https://localhost:8080/"
        },
        "id": "r-FYfMJBZOz4",
        "outputId": "57abf42c-0ed6-4773-aa03-c0197010a85d"
      },
      "source": [
        "df.info()"
      ],
      "execution_count": null,
      "outputs": [
        {
          "output_type": "stream",
          "text": [
            "<class 'pandas.core.frame.DataFrame'>\n",
            "RangeIndex: 12000 entries, 0 to 11999\n",
            "Data columns (total 2 columns):\n",
            " #   Column    Non-Null Count  Dtype \n",
            "---  ------    --------------  ----- \n",
            " 0   TITLE     12000 non-null  object\n",
            " 1   CATEGORY  12000 non-null  int64 \n",
            "dtypes: int64(1), object(1)\n",
            "memory usage: 187.6+ KB\n"
          ],
          "name": "stdout"
        }
      ]
    },
    {
      "cell_type": "code",
      "metadata": {
        "id": "8P2413ZZeeon"
      },
      "source": [
        "count=CountVectorizer()\n",
        "bag_of_words = count.fit_transform(df['TITLE'])\n",
        "#x=bag_of_words.toarray()\n",
        "x=np.array(bag_of_words)\n",
        "y=df['CATEGORY']"
      ],
      "execution_count": null,
      "outputs": []
    },
    {
      "cell_type": "code",
      "metadata": {
        "colab": {
          "base_uri": "https://localhost:8080/"
        },
        "id": "wXli-Lr3axk8",
        "outputId": "e4d9aa63-e71c-445c-8c09-051e5d78eb85"
      },
      "source": [
        "x"
      ],
      "execution_count": null,
      "outputs": [
        {
          "output_type": "execute_result",
          "data": {
            "text/plain": [
              "array(<12000x9314 sparse matrix of type '<class 'numpy.int64'>'\n",
              "\twith 105808 stored elements in Compressed Sparse Row format>,\n",
              "      dtype=object)"
            ]
          },
          "metadata": {
            "tags": []
          },
          "execution_count": 40
        }
      ]
    },
    {
      "cell_type": "code",
      "metadata": {
        "id": "SSv88PzAYYV_"
      },
      "source": [
        "tfidf=TfidfVectorizer()\n",
        "bag_of_words =tfidf.fit_transform(df['TITLE'])\n",
        "x= bag_of_words.toarray()\n",
        "y=df['CATEGORY']"
      ],
      "execution_count": null,
      "outputs": []
    },
    {
      "cell_type": "code",
      "metadata": {
        "id": "xpGhxSmRUDjj"
      },
      "source": [
        "x_train,x_test,y_train,y_test=train_test_split(x,y,test_size=0.2,random_state=0)"
      ],
      "execution_count": null,
      "outputs": []
    },
    {
      "cell_type": "code",
      "metadata": {
        "id": "bKy08VBwe1mp"
      },
      "source": [
        "clf = MultinomialNB()\n",
        "model = clf.fit(x_train,y_train)"
      ],
      "execution_count": null,
      "outputs": []
    },
    {
      "cell_type": "code",
      "metadata": {
        "colab": {
          "base_uri": "https://localhost:8080/"
        },
        "id": "79xAKnohUZs9",
        "outputId": "dca06689-6637-4e58-8b19-109b7bd9b8f7"
      },
      "source": [
        "predictions=model.predict(x_test)\n",
        "accuracy_score(y_test,predictions)"
      ],
      "execution_count": null,
      "outputs": [
        {
          "output_type": "execute_result",
          "data": {
            "text/plain": [
              "0.9683333333333334"
            ]
          },
          "metadata": {
            "tags": []
          },
          "execution_count": 73
        }
      ]
    },
    {
      "cell_type": "code",
      "metadata": {
        "colab": {
          "base_uri": "https://localhost:8080/"
        },
        "id": "jo-K6gDeUzH8",
        "outputId": "94847a8a-c0fc-4f59-d45f-4ac27ec8d4fa"
      },
      "source": [
        "confusion_matrix(y_test,predictions)"
      ],
      "execution_count": null,
      "outputs": [
        {
          "output_type": "execute_result",
          "data": {
            "text/plain": [
              "array([[570,   0,   6,   3],\n",
              "       [  3, 582,  13,   6],\n",
              "       [ 10,  11, 559,   3],\n",
              "       [  4,   9,   8, 613]])"
            ]
          },
          "metadata": {
            "tags": []
          },
          "execution_count": 74
        }
      ]
    },
    {
      "cell_type": "code",
      "metadata": {
        "id": "EQJ-bqwhbCB0"
      },
      "source": [
        "context=['Entertainment','Bussiness','Science and Technology','Health']"
      ],
      "execution_count": null,
      "outputs": []
    },
    {
      "cell_type": "code",
      "metadata": {
        "colab": {
          "base_uri": "https://localhost:8080/"
        },
        "id": "qThYWUM9U6a9",
        "outputId": "542faa99-fb32-4ed5-d736-d169cd95358a"
      },
      "source": [
        "#test\n",
        "text=[str(input())]\n",
        "words = count.transform(text)\n",
        "test=words.toarray()"
      ],
      "execution_count": null,
      "outputs": [
        {
          "output_type": "stream",
          "text": [
            "Stocks in news: Emami, Tata Motors, HDFC Bank, Nalco and more\n"
          ],
          "name": "stdout"
        }
      ]
    },
    {
      "cell_type": "code",
      "metadata": {
        "colab": {
          "base_uri": "https://localhost:8080/",
          "height": 35
        },
        "id": "tWCpr0WZWPBB",
        "outputId": "e8e8470f-816d-4ea6-e4e8-6ff484d455a5"
      },
      "source": [
        "context[model.predict(test)[0]]"
      ],
      "execution_count": null,
      "outputs": [
        {
          "output_type": "execute_result",
          "data": {
            "application/vnd.google.colaboratory.intrinsic+json": {
              "type": "string"
            },
            "text/plain": [
              "'Bussiness'"
            ]
          },
          "metadata": {
            "tags": []
          },
          "execution_count": 54
        }
      ]
    }
  ]
}